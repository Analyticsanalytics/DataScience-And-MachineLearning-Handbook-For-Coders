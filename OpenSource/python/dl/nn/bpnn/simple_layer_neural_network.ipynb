version https://git-lfs.github.com/spec/v1
oid sha256:d038a6baec535c8329ded1e1ab089dc63784805a81987846265e00cbdab37199
size 3325
