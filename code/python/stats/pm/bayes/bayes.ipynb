version https://git-lfs.github.com/spec/v1
oid sha256:6f53544ea049f686e440a32b2ed293ebd974cfef69270e71a3ce9bd1bc4024c4
size 111314
